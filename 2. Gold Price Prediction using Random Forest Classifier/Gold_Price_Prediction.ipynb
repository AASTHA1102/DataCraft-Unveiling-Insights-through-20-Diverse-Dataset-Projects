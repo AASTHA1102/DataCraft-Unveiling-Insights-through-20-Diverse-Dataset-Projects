{
 "cells": [
  {
   "cell_type": "markdown",
   "id": "2790b7a1-1517-4ea0-8d0f-539353b30ed4",
   "metadata": {},
   "source": [
    "# Gold Price Prediction using Random Forest Classifier\n",
    "___________________________________________________\n",
    "\n",
    "### Importing necessary libraries"
   ]
  },
  {
   "cell_type": "code",
   "execution_count": 5,
   "id": "1f0330da-dfa6-43c4-ac82-966770204843",
   "metadata": {},
   "outputs": [],
   "source": [
    "import numpy as np\n",
    "import pandas as pd\n",
    "import matplotlib.pyplot as plt\n",
    "import seaborn as sns\n",
    "from sklearn.model_selection import train_test_split\n",
    "from sklearn.ensemble import RandomForestRegressor\n",
    "from sklearn import metrics"
   ]
  },
  {
   "cell_type": "markdown",
   "id": "115da605-639f-4cac-b622-b2a7dcc717ce",
   "metadata": {},
   "source": [
    "### Data Collection & Processing\n",
    "\n",
    "#### Loading dataset"
   ]
  },
  {
   "cell_type": "code",
   "execution_count": 6,
   "id": "148d58a6-97f1-4f33-90e2-f5da7fbd2e28",
   "metadata": {},
   "outputs": [],
   "source": [
    "\n",
    "gold = pd.read_csv('gld_price_data.csv')"
   ]
  },
  {
   "cell_type": "code",
   "execution_count": 7,
   "id": "83bf45d7-234d-4c2e-b0fc-8e52353b04ba",
   "metadata": {},
   "outputs": [
    {
     "data": {
      "text/html": [
       "<div>\n",
       "<style scoped>\n",
       "    .dataframe tbody tr th:only-of-type {\n",
       "        vertical-align: middle;\n",
       "    }\n",
       "\n",
       "    .dataframe tbody tr th {\n",
       "        vertical-align: top;\n",
       "    }\n",
       "\n",
       "    .dataframe thead th {\n",
       "        text-align: right;\n",
       "    }\n",
       "</style>\n",
       "<table border=\"1\" class=\"dataframe\">\n",
       "  <thead>\n",
       "    <tr style=\"text-align: right;\">\n",
       "      <th></th>\n",
       "      <th>Date</th>\n",
       "      <th>SPX</th>\n",
       "      <th>GLD</th>\n",
       "      <th>USO</th>\n",
       "      <th>SLV</th>\n",
       "      <th>EUR/USD</th>\n",
       "    </tr>\n",
       "  </thead>\n",
       "  <tbody>\n",
       "    <tr>\n",
       "      <th>0</th>\n",
       "      <td>1/2/2008</td>\n",
       "      <td>1447.160034</td>\n",
       "      <td>84.860001</td>\n",
       "      <td>78.470001</td>\n",
       "      <td>15.1800</td>\n",
       "      <td>1.471692</td>\n",
       "    </tr>\n",
       "    <tr>\n",
       "      <th>1</th>\n",
       "      <td>1/3/2008</td>\n",
       "      <td>1447.160034</td>\n",
       "      <td>85.570000</td>\n",
       "      <td>78.370003</td>\n",
       "      <td>15.2850</td>\n",
       "      <td>1.474491</td>\n",
       "    </tr>\n",
       "    <tr>\n",
       "      <th>2</th>\n",
       "      <td>1/4/2008</td>\n",
       "      <td>1411.630005</td>\n",
       "      <td>85.129997</td>\n",
       "      <td>77.309998</td>\n",
       "      <td>15.1670</td>\n",
       "      <td>1.475492</td>\n",
       "    </tr>\n",
       "    <tr>\n",
       "      <th>3</th>\n",
       "      <td>1/7/2008</td>\n",
       "      <td>1416.180054</td>\n",
       "      <td>84.769997</td>\n",
       "      <td>75.500000</td>\n",
       "      <td>15.0530</td>\n",
       "      <td>1.468299</td>\n",
       "    </tr>\n",
       "    <tr>\n",
       "      <th>4</th>\n",
       "      <td>1/8/2008</td>\n",
       "      <td>1390.189941</td>\n",
       "      <td>86.779999</td>\n",
       "      <td>76.059998</td>\n",
       "      <td>15.5900</td>\n",
       "      <td>1.557099</td>\n",
       "    </tr>\n",
       "    <tr>\n",
       "      <th>...</th>\n",
       "      <td>...</td>\n",
       "      <td>...</td>\n",
       "      <td>...</td>\n",
       "      <td>...</td>\n",
       "      <td>...</td>\n",
       "      <td>...</td>\n",
       "    </tr>\n",
       "    <tr>\n",
       "      <th>2285</th>\n",
       "      <td>5/8/2018</td>\n",
       "      <td>2671.919922</td>\n",
       "      <td>124.589996</td>\n",
       "      <td>14.060000</td>\n",
       "      <td>15.5100</td>\n",
       "      <td>1.186789</td>\n",
       "    </tr>\n",
       "    <tr>\n",
       "      <th>2286</th>\n",
       "      <td>5/9/2018</td>\n",
       "      <td>2697.790039</td>\n",
       "      <td>124.330002</td>\n",
       "      <td>14.370000</td>\n",
       "      <td>15.5300</td>\n",
       "      <td>1.184722</td>\n",
       "    </tr>\n",
       "    <tr>\n",
       "      <th>2287</th>\n",
       "      <td>5/10/2018</td>\n",
       "      <td>2723.070068</td>\n",
       "      <td>125.180000</td>\n",
       "      <td>14.410000</td>\n",
       "      <td>15.7400</td>\n",
       "      <td>1.191753</td>\n",
       "    </tr>\n",
       "    <tr>\n",
       "      <th>2288</th>\n",
       "      <td>5/14/2018</td>\n",
       "      <td>2730.129883</td>\n",
       "      <td>124.489998</td>\n",
       "      <td>14.380000</td>\n",
       "      <td>15.5600</td>\n",
       "      <td>1.193118</td>\n",
       "    </tr>\n",
       "    <tr>\n",
       "      <th>2289</th>\n",
       "      <td>5/16/2018</td>\n",
       "      <td>2725.780029</td>\n",
       "      <td>122.543800</td>\n",
       "      <td>14.405800</td>\n",
       "      <td>15.4542</td>\n",
       "      <td>1.182033</td>\n",
       "    </tr>\n",
       "  </tbody>\n",
       "</table>\n",
       "<p>2290 rows × 6 columns</p>\n",
       "</div>"
      ],
      "text/plain": [
       "           Date          SPX         GLD        USO      SLV   EUR/USD\n",
       "0      1/2/2008  1447.160034   84.860001  78.470001  15.1800  1.471692\n",
       "1      1/3/2008  1447.160034   85.570000  78.370003  15.2850  1.474491\n",
       "2      1/4/2008  1411.630005   85.129997  77.309998  15.1670  1.475492\n",
       "3      1/7/2008  1416.180054   84.769997  75.500000  15.0530  1.468299\n",
       "4      1/8/2008  1390.189941   86.779999  76.059998  15.5900  1.557099\n",
       "...         ...          ...         ...        ...      ...       ...\n",
       "2285   5/8/2018  2671.919922  124.589996  14.060000  15.5100  1.186789\n",
       "2286   5/9/2018  2697.790039  124.330002  14.370000  15.5300  1.184722\n",
       "2287  5/10/2018  2723.070068  125.180000  14.410000  15.7400  1.191753\n",
       "2288  5/14/2018  2730.129883  124.489998  14.380000  15.5600  1.193118\n",
       "2289  5/16/2018  2725.780029  122.543800  14.405800  15.4542  1.182033\n",
       "\n",
       "[2290 rows x 6 columns]"
      ]
     },
     "execution_count": 7,
     "metadata": {},
     "output_type": "execute_result"
    }
   ],
   "source": [
    "gold"
   ]
  },
  {
   "cell_type": "code",
   "execution_count": 8,
   "id": "9322ddfb-c1d1-4295-81c6-4bfc5812c12b",
   "metadata": {},
   "outputs": [
    {
     "name": "stdout",
     "output_type": "stream",
     "text": [
      "<class 'pandas.core.frame.DataFrame'>\n",
      "RangeIndex: 2290 entries, 0 to 2289\n",
      "Data columns (total 6 columns):\n",
      " #   Column   Non-Null Count  Dtype  \n",
      "---  ------   --------------  -----  \n",
      " 0   Date     2290 non-null   object \n",
      " 1   SPX      2290 non-null   float64\n",
      " 2   GLD      2290 non-null   float64\n",
      " 3   USO      2290 non-null   float64\n",
      " 4   SLV      2290 non-null   float64\n",
      " 5   EUR/USD  2290 non-null   float64\n",
      "dtypes: float64(5), object(1)\n",
      "memory usage: 107.5+ KB\n"
     ]
    }
   ],
   "source": [
    "gold.info()"
   ]
  },
  {
   "cell_type": "code",
   "execution_count": 9,
   "id": "226e17f4-19b3-4788-9f9f-9ee22d15a8e0",
   "metadata": {},
   "outputs": [
    {
     "data": {
      "text/html": [
       "<div>\n",
       "<style scoped>\n",
       "    .dataframe tbody tr th:only-of-type {\n",
       "        vertical-align: middle;\n",
       "    }\n",
       "\n",
       "    .dataframe tbody tr th {\n",
       "        vertical-align: top;\n",
       "    }\n",
       "\n",
       "    .dataframe thead th {\n",
       "        text-align: right;\n",
       "    }\n",
       "</style>\n",
       "<table border=\"1\" class=\"dataframe\">\n",
       "  <thead>\n",
       "    <tr style=\"text-align: right;\">\n",
       "      <th></th>\n",
       "      <th>SPX</th>\n",
       "      <th>GLD</th>\n",
       "      <th>USO</th>\n",
       "      <th>SLV</th>\n",
       "      <th>EUR/USD</th>\n",
       "    </tr>\n",
       "  </thead>\n",
       "  <tbody>\n",
       "    <tr>\n",
       "      <th>count</th>\n",
       "      <td>2290.000000</td>\n",
       "      <td>2290.000000</td>\n",
       "      <td>2290.000000</td>\n",
       "      <td>2290.000000</td>\n",
       "      <td>2290.000000</td>\n",
       "    </tr>\n",
       "    <tr>\n",
       "      <th>mean</th>\n",
       "      <td>1654.315776</td>\n",
       "      <td>122.732875</td>\n",
       "      <td>31.842221</td>\n",
       "      <td>20.084997</td>\n",
       "      <td>1.283653</td>\n",
       "    </tr>\n",
       "    <tr>\n",
       "      <th>std</th>\n",
       "      <td>519.111540</td>\n",
       "      <td>23.283346</td>\n",
       "      <td>19.523517</td>\n",
       "      <td>7.092566</td>\n",
       "      <td>0.131547</td>\n",
       "    </tr>\n",
       "    <tr>\n",
       "      <th>min</th>\n",
       "      <td>676.530029</td>\n",
       "      <td>70.000000</td>\n",
       "      <td>7.960000</td>\n",
       "      <td>8.850000</td>\n",
       "      <td>1.039047</td>\n",
       "    </tr>\n",
       "    <tr>\n",
       "      <th>25%</th>\n",
       "      <td>1239.874969</td>\n",
       "      <td>109.725000</td>\n",
       "      <td>14.380000</td>\n",
       "      <td>15.570000</td>\n",
       "      <td>1.171313</td>\n",
       "    </tr>\n",
       "    <tr>\n",
       "      <th>50%</th>\n",
       "      <td>1551.434998</td>\n",
       "      <td>120.580002</td>\n",
       "      <td>33.869999</td>\n",
       "      <td>17.268500</td>\n",
       "      <td>1.303297</td>\n",
       "    </tr>\n",
       "    <tr>\n",
       "      <th>75%</th>\n",
       "      <td>2073.010070</td>\n",
       "      <td>132.840004</td>\n",
       "      <td>37.827501</td>\n",
       "      <td>22.882500</td>\n",
       "      <td>1.369971</td>\n",
       "    </tr>\n",
       "    <tr>\n",
       "      <th>max</th>\n",
       "      <td>2872.870117</td>\n",
       "      <td>184.589996</td>\n",
       "      <td>117.480003</td>\n",
       "      <td>47.259998</td>\n",
       "      <td>1.598798</td>\n",
       "    </tr>\n",
       "  </tbody>\n",
       "</table>\n",
       "</div>"
      ],
      "text/plain": [
       "               SPX          GLD          USO          SLV      EUR/USD\n",
       "count  2290.000000  2290.000000  2290.000000  2290.000000  2290.000000\n",
       "mean   1654.315776   122.732875    31.842221    20.084997     1.283653\n",
       "std     519.111540    23.283346    19.523517     7.092566     0.131547\n",
       "min     676.530029    70.000000     7.960000     8.850000     1.039047\n",
       "25%    1239.874969   109.725000    14.380000    15.570000     1.171313\n",
       "50%    1551.434998   120.580002    33.869999    17.268500     1.303297\n",
       "75%    2073.010070   132.840004    37.827501    22.882500     1.369971\n",
       "max    2872.870117   184.589996   117.480003    47.259998     1.598798"
      ]
     },
     "execution_count": 9,
     "metadata": {},
     "output_type": "execute_result"
    }
   ],
   "source": [
    "gold.describe()"
   ]
  },
  {
   "cell_type": "code",
   "execution_count": 10,
   "id": "67e7e663-37aa-4b79-955c-798f8bccb97d",
   "metadata": {},
   "outputs": [
    {
     "data": {
      "text/plain": [
       "Date       0\n",
       "SPX        0\n",
       "GLD        0\n",
       "USO        0\n",
       "SLV        0\n",
       "EUR/USD    0\n",
       "dtype: int64"
      ]
     },
     "execution_count": 10,
     "metadata": {},
     "output_type": "execute_result"
    }
   ],
   "source": [
    "# checking if there is any missing value\n",
    "gold.isnull().sum()"
   ]
  },
  {
   "cell_type": "markdown",
   "id": "2e84240b-118a-47c2-bd5f-881bb96d65a4",
   "metadata": {},
   "source": [
    "### Finding Correlation Patterns"
   ]
  },
  {
   "cell_type": "code",
   "execution_count": 11,
   "id": "5dab52ee-d003-4cf9-8c67-8426cb2c034f",
   "metadata": {},
   "outputs": [],
   "source": [
    "# Corellation (Positive and Negative)\n",
    "numeric_columns = gold.select_dtypes(include=np.number)\n",
    "correlation = numeric_columns.corr()\n"
   ]
  },
  {
   "cell_type": "code",
   "execution_count": 12,
   "id": "7b5debd2-0d90-4108-8014-5f3222084672",
   "metadata": {},
   "outputs": [
    {
     "data": {
      "text/plain": [
       "<Axes: >"
      ]
     },
     "execution_count": 12,
     "metadata": {},
     "output_type": "execute_result"
    },
    {
     "data": {
      "image/png": "[encoded data removed]",
      "text/plain": [
       "<Figure size 800x800 with 2 Axes>"
      ]
     },
     "metadata": {},
     "output_type": "display_data"
    }
   ],
   "source": [
    "plt.figure(figsize = (8,8))\n",
    "sns.heatmap(correlation, cbar = True, square = True, fmt='.1f', annot=True,annot_kws = {'size':8},cmap= 'Blues')\n"
   ]
  },
  {
   "cell_type": "code",
   "execution_count": 13,
   "id": "3027decc-bafc-44d4-8de0-c25212d0a621",
   "metadata": {},
   "outputs": [
    {
     "name": "stdout",
     "output_type": "stream",
     "text": [
      "SPX        0.049345\n",
      "GLD        1.000000\n",
      "USO       -0.186360\n",
      "SLV        0.866632\n",
      "EUR/USD   -0.024375\n",
      "Name: GLD, dtype: float64\n"
     ]
    }
   ],
   "source": [
    "print(correlation['GLD'])"
   ]
  },
  {
   "cell_type": "markdown",
   "id": "8e4d660d-ac8f-4ce9-a793-b2892612940b",
   "metadata": {},
   "source": [
    "### Checking distribution of the GLD Price"
   ]
  },
  {
   "cell_type": "code",
   "execution_count": 14,
   "id": "fd630e76-e54d-490b-b756-ab5d3dc01169",
   "metadata": {},
   "outputs": [
    {
     "name": "stderr",
     "output_type": "stream",
     "text": [
      "C:\\Users\\aasth\\AppData\\Local\\Temp\\ipykernel_14604\\3946921972.py:1: UserWarning: \n",
      "\n",
      "`distplot` is a deprecated function and will be removed in seaborn v0.14.0.\n",
      "\n",
      "Please adapt your code to use either `displot` (a figure-level function with\n",
      "similar flexibility) or `histplot` (an axes-level function for histograms).\n",
      "\n",
      "For a guide to updating your code to use the new functions, please see\n",
      "https://gist.github.com/mwaskom/de44147ed2974457ad6372750bbe5751\n",
      "\n",
      "  sns.distplot(gold['GLD'],color = 'green')\n"
     ]
    },
    {
     "data": {
      "text/plain": [
       "<Axes: xlabel='GLD', ylabel='Density'>"
      ]
     },
     "execution_count": 14,
     "metadata": {},
     "output_type": "execute_result"
    },
    {
     "data": {
      "image/png": "[encoded data removed]",
      "text/plain": [
       "<Figure size 640x480 with 1 Axes>"
      ]
     },
     "metadata": {},
     "output_type": "display_data"
    }
   ],
   "source": [
    "\n",
    "sns.distplot(gold['GLD'],color = 'green')"
   ]
  },
  {
   "cell_type": "markdown",
   "id": "cfe0a9f0-88b4-4d96-b564-5f35300df1d5",
   "metadata": {},
   "source": [
    "### Splitting the Features ana Target "
   ]
  },
  {
   "cell_type": "code",
   "execution_count": 15,
   "id": "bed56737-2a02-424d-80bd-e4f8cfff272b",
   "metadata": {},
   "outputs": [],
   "source": [
    "\n",
    "X = gold.drop(['Date','GLD'],axis = 1)\n",
    "Y = gold['GLD']"
   ]
  },
  {
   "cell_type": "code",
   "execution_count": 16,
   "id": "53d25243-1842-443f-8039-abdfb240e58f",
   "metadata": {},
   "outputs": [
    {
     "data": {
      "text/html": [
       "<div>\n",
       "<style scoped>\n",
       "    .dataframe tbody tr th:only-of-type {\n",
       "        vertical-align: middle;\n",
       "    }\n",
       "\n",
       "    .dataframe tbody tr th {\n",
       "        vertical-align: top;\n",
       "    }\n",
       "\n",
       "    .dataframe thead th {\n",
       "        text-align: right;\n",
       "    }\n",
       "</style>\n",
       "<table border=\"1\" class=\"dataframe\">\n",
       "  <thead>\n",
       "    <tr style=\"text-align: right;\">\n",
       "      <th></th>\n",
       "      <th>SPX</th>\n",
       "      <th>USO</th>\n",
       "      <th>SLV</th>\n",
       "      <th>EUR/USD</th>\n",
       "    </tr>\n",
       "  </thead>\n",
       "  <tbody>\n",
       "    <tr>\n",
       "      <th>0</th>\n",
       "      <td>1447.160034</td>\n",
       "      <td>78.470001</td>\n",
       "      <td>15.1800</td>\n",
       "      <td>1.471692</td>\n",
       "    </tr>\n",
       "    <tr>\n",
       "      <th>1</th>\n",
       "      <td>1447.160034</td>\n",
       "      <td>78.370003</td>\n",
       "      <td>15.2850</td>\n",
       "      <td>1.474491</td>\n",
       "    </tr>\n",
       "    <tr>\n",
       "      <th>2</th>\n",
       "      <td>1411.630005</td>\n",
       "      <td>77.309998</td>\n",
       "      <td>15.1670</td>\n",
       "      <td>1.475492</td>\n",
       "    </tr>\n",
       "    <tr>\n",
       "      <th>3</th>\n",
       "      <td>1416.180054</td>\n",
       "      <td>75.500000</td>\n",
       "      <td>15.0530</td>\n",
       "      <td>1.468299</td>\n",
       "    </tr>\n",
       "    <tr>\n",
       "      <th>4</th>\n",
       "      <td>1390.189941</td>\n",
       "      <td>76.059998</td>\n",
       "      <td>15.5900</td>\n",
       "      <td>1.557099</td>\n",
       "    </tr>\n",
       "    <tr>\n",
       "      <th>...</th>\n",
       "      <td>...</td>\n",
       "      <td>...</td>\n",
       "      <td>...</td>\n",
       "      <td>...</td>\n",
       "    </tr>\n",
       "    <tr>\n",
       "      <th>2285</th>\n",
       "      <td>2671.919922</td>\n",
       "      <td>14.060000</td>\n",
       "      <td>15.5100</td>\n",
       "      <td>1.186789</td>\n",
       "    </tr>\n",
       "    <tr>\n",
       "      <th>2286</th>\n",
       "      <td>2697.790039</td>\n",
       "      <td>14.370000</td>\n",
       "      <td>15.5300</td>\n",
       "      <td>1.184722</td>\n",
       "    </tr>\n",
       "    <tr>\n",
       "      <th>2287</th>\n",
       "      <td>2723.070068</td>\n",
       "      <td>14.410000</td>\n",
       "      <td>15.7400</td>\n",
       "      <td>1.191753</td>\n",
       "    </tr>\n",
       "    <tr>\n",
       "      <th>2288</th>\n",
       "      <td>2730.129883</td>\n",
       "      <td>14.380000</td>\n",
       "      <td>15.5600</td>\n",
       "      <td>1.193118</td>\n",
       "    </tr>\n",
       "    <tr>\n",
       "      <th>2289</th>\n",
       "      <td>2725.780029</td>\n",
       "      <td>14.405800</td>\n",
       "      <td>15.4542</td>\n",
       "      <td>1.182033</td>\n",
       "    </tr>\n",
       "  </tbody>\n",
       "</table>\n",
       "<p>2290 rows × 4 columns</p>\n",
       "</div>"
      ],
      "text/plain": [
       "              SPX        USO      SLV   EUR/USD\n",
       "0     1447.160034  78.470001  15.1800  1.471692\n",
       "1     1447.160034  78.370003  15.2850  1.474491\n",
       "2     1411.630005  77.309998  15.1670  1.475492\n",
       "3     1416.180054  75.500000  15.0530  1.468299\n",
       "4     1390.189941  76.059998  15.5900  1.557099\n",
       "...           ...        ...      ...       ...\n",
       "2285  2671.919922  14.060000  15.5100  1.186789\n",
       "2286  2697.790039  14.370000  15.5300  1.184722\n",
       "2287  2723.070068  14.410000  15.7400  1.191753\n",
       "2288  2730.129883  14.380000  15.5600  1.193118\n",
       "2289  2725.780029  14.405800  15.4542  1.182033\n",
       "\n",
       "[2290 rows x 4 columns]"
      ]
     },
     "execution_count": 16,
     "metadata": {},
     "output_type": "execute_result"
    }
   ],
   "source": [
    "X"
   ]
  },
  {
   "cell_type": "code",
   "execution_count": 17,
   "id": "71bbe53f-ab4b-4a9d-88ed-dbbe17a6e78c",
   "metadata": {},
   "outputs": [
    {
     "data": {
      "text/plain": [
       "0        84.860001\n",
       "1        85.570000\n",
       "2        85.129997\n",
       "3        84.769997\n",
       "4        86.779999\n",
       "           ...    \n",
       "2285    124.589996\n",
       "2286    124.330002\n",
       "2287    125.180000\n",
       "2288    124.489998\n",
       "2289    122.543800\n",
       "Name: GLD, Length: 2290, dtype: float64"
      ]
     },
     "execution_count": 17,
     "metadata": {},
     "output_type": "execute_result"
    }
   ],
   "source": [
    "Y"
   ]
  },
  {
   "cell_type": "markdown",
   "id": "e8ff08dd-6ed3-40ea-9d53-4a3e2df9d0f0",
   "metadata": {},
   "source": [
    "### Train Test Split"
   ]
  },
  {
   "cell_type": "code",
   "execution_count": 18,
   "id": "c208f63c-412d-4364-a45e-bb872ea08b86",
   "metadata": {},
   "outputs": [],
   "source": [
    "# Splitting Training data & Test data\n",
    "X_train, X_test, Y_train, Y_test = train_test_split(X,Y, test_size=0.2, random_state=2)"
   ]
  },
  {
   "cell_type": "markdown",
   "id": "3bfe2f70-d73a-45d7-8c82-bda13b26521a",
   "metadata": {},
   "source": [
    "### Model Training"
   ]
  },
  {
   "cell_type": "code",
   "execution_count": 19,
   "id": "02c7416d-1b6a-45bb-913e-a44e1a7c1149",
   "metadata": {},
   "outputs": [],
   "source": [
    "\n",
    "regressor = RandomForestRegressor(n_estimators = 100)"
   ]
  },
  {
   "cell_type": "code",
   "execution_count": 20,
   "id": "38db519e-667b-49c8-a01f-563f4c69ceba",
   "metadata": {},
   "outputs": [
    {
     "data": {
      "text/html": [
       "<style>#sk-container-id-1 {color: black;}#sk-container-id-1 pre{padding: 0;}#sk-container-id-1 div.sk-toggleable {background-color: white;}#sk-container-id-1 label.sk-toggleable__label {cursor: pointer;display: block;width: 100%;margin-bottom: 0;padding: 0.3em;box-sizing: border-box;text-align: center;}#sk-container-id-1 label.sk-toggleable__label-arrow:before {content: \"▸\";float: left;margin-right: 0.25em;color: #696969;}#sk-container-id-1 label.sk-toggleable__label-arrow:hover:before {color: black;}#sk-container-id-1 div.sk-estimator:hover label.sk-toggleable__label-arrow:before {color: black;}#sk-container-id-1 div.sk-toggleable__content {max-height: 0;max-width: 0;overflow: hidden;text-align: left;background-color: #f0f8ff;}#sk-container-id-1 div.sk-toggleable__content pre {margin: 0.2em;color: black;border-radius: 0.25em;background-color: #f0f8ff;}#sk-container-id-1 input.sk-toggleable__control:checked~div.sk-toggleable__content {max-height: 200px;max-width: 100%;overflow: auto;}#sk-container-id-1 input.sk-toggleable__control:checked~label.sk-toggleable__label-arrow:before {content: \"▾\";}#sk-container-id-1 div.sk-estimator input.sk-toggleable__control:checked~label.sk-toggleable__label {background-color: #d4ebff;}#sk-container-id-1 div.sk-label input.sk-toggleable__control:checked~label.sk-toggleable__label {background-color: #d4ebff;}#sk-container-id-1 input.sk-hidden--visually {border: 0;clip: rect(1px 1px 1px 1px);clip: rect(1px, 1px, 1px, 1px);height: 1px;margin: -1px;overflow: hidden;padding: 0;position: absolute;width: 1px;}#sk-container-id-1 div.sk-estimator {font-family: monospace;background-color: #f0f8ff;border: 1px dotted black;border-radius: 0.25em;box-sizing: border-box;margin-bottom: 0.5em;}#sk-container-id-1 div.sk-estimator:hover {background-color: #d4ebff;}#sk-container-id-1 div.sk-parallel-item::after {content: \"\";width: 100%;border-bottom: 1px solid gray;flex-grow: 1;}#sk-container-id-1 div.sk-label:hover label.sk-toggleable__label {background-color: #d4ebff;}#sk-container-id-1 div.sk-serial::before {content: \"\";position: absolute;border-left: 1px solid gray;box-sizing: border-box;top: 0;bottom: 0;left: 50%;z-index: 0;}#sk-container-id-1 div.sk-serial {display: flex;flex-direction: column;align-items: center;background-color: white;padding-right: 0.2em;padding-left: 0.2em;position: relative;}#sk-container-id-1 div.sk-item {position: relative;z-index: 1;}#sk-container-id-1 div.sk-parallel {display: flex;align-items: stretch;justify-content: center;background-color: white;position: relative;}#sk-container-id-1 div.sk-item::before, #sk-container-id-1 div.sk-parallel-item::before {content: \"\";position: absolute;border-left: 1px solid gray;box-sizing: border-box;top: 0;bottom: 0;left: 50%;z-index: -1;}#sk-container-id-1 div.sk-parallel-item {display: flex;flex-direction: column;z-index: 1;position: relative;background-color: white;}#sk-container-id-1 div.sk-parallel-item:first-child::after {align-self: flex-end;width: 50%;}#sk-container-id-1 div.sk-parallel-item:last-child::after {align-self: flex-start;width: 50%;}#sk-container-id-1 div.sk-parallel-item:only-child::after {width: 0;}#sk-container-id-1 div.sk-dashed-wrapped {border: 1px dashed gray;margin: 0 0.4em 0.5em 0.4em;box-sizing: border-box;padding-bottom: 0.4em;background-color: white;}#sk-container-id-1 div.sk-label label {font-family: monospace;font-weight: bold;display: inline-block;line-height: 1.2em;}#sk-container-id-1 div.sk-label-container {text-align: center;}#sk-container-id-1 div.sk-container {/* jupyter's `normalize.less` sets `[hidden] { display: none; }` but bootstrap.min.css set `[hidden] { display: none !important; }` so we also need the `!important` here to be able to override the default hidden behavior on the sphinx rendered scikit-learn.org. See: https://github.com/scikit-learn/scikit-learn/issues/21755 */display: inline-block !important;position: relative;}#sk-container-id-1 div.sk-text-repr-fallback {display: none;}</style><div id=\"sk-container-id-1\" class=\"sk-top-container\"><div class=\"sk-text-repr-fallback\"><pre>RandomForestRegressor()</pre><b>In a Jupyter environment, please rerun this cell to show the HTML representation or trust the notebook. <br />On GitHub, the HTML representation is unable to render, please try loading this page with nbviewer.org.</b></div><div class=\"sk-container\" hidden><div class=\"sk-item\"><div class=\"sk-estimator sk-toggleable\"><input class=\"sk-toggleable__control sk-hidden--visually\" id=\"sk-estimator-id-1\" type=\"checkbox\" checked><label for=\"sk-estimator-id-1\" class=\"sk-toggleable__label sk-toggleable__label-arrow\">RandomForestRegressor</label><div class=\"sk-toggleable__content\"><pre>RandomForestRegressor()</pre></div></div></div></div></div>"
      ],
      "text/plain": [
       "RandomForestRegressor()"
      ]
     },
     "execution_count": 20,
     "metadata": {},
     "output_type": "execute_result"
    }
   ],
   "source": [
    "regressor.fit(X_train, Y_train)"
   ]
  },
  {
   "cell_type": "markdown",
   "id": "f06d1cd4-3bda-4ee1-b7c6-bf2fe6ac541b",
   "metadata": {},
   "source": [
    "### Model Evaluation\n",
    "\n",
    "#### Prediction on Test Data"
   ]
  },
  {
   "cell_type": "code",
   "execution_count": 21,
   "id": "4a769b7f-efbf-4787-b0cb-a9227b5ce484",
   "metadata": {},
   "outputs": [],
   "source": [
    "\n",
    "test_data_prediction = regressor.predict(X_test)"
   ]
  },
  {
   "cell_type": "code",
   "execution_count": 22,
   "id": "cff53eb4-f673-49ae-b840-c8814f1cf707",
   "metadata": {},
   "outputs": [
    {
     "data": {
      "text/plain": [
       "array([168.54679946,  82.10099987, 115.68920014, 127.65380052,\n",
       "       120.69540131, 154.7783972 , 150.29289833, 125.9542007 ,\n",
       "       117.41979864, 125.92880069, 116.439901  , 171.9525006 ,\n",
       "       141.23709863, 167.74909863, 115.17900026, 117.9501006 ,\n",
       "       139.99460357, 170.10930103, 159.31060208, 156.04939971,\n",
       "       155.20570031, 125.31620035, 175.61539968, 157.01450335,\n",
       "       125.17930073,  93.91449927,  77.99319968, 120.4818    ,\n",
       "       119.06919921, 167.44870037,  87.9886002 , 125.13729994,\n",
       "        91.04940104, 117.51230059, 121.22969924, 136.15220095,\n",
       "       115.66480107, 114.81080042, 146.85129985, 107.35720082,\n",
       "       104.35040224,  87.07389794, 126.58370066, 117.90920032,\n",
       "       152.30099887, 119.54810022, 108.36100062, 107.95169835,\n",
       "        93.23850039, 127.14449749,  74.64710043, 113.43419886,\n",
       "       121.39129999, 111.24599927, 118.93239877, 120.19489958,\n",
       "       159.23840066, 167.09220072, 147.09319699,  85.70629826,\n",
       "        94.20050033,  86.71679886,  90.58500033, 119.00340055,\n",
       "       126.46070062, 127.48670025, 169.86239975, 122.3756994 ,\n",
       "       117.43669929,  98.4037003 , 168.55120153, 143.10039894,\n",
       "       131.9027021 , 121.15810216, 121.49439965, 119.64700055,\n",
       "       114.63050153, 118.47390079, 107.35300074, 127.75120076,\n",
       "       114.01810006, 107.34189985, 116.84100027, 119.80089883,\n",
       "        88.95270094,  88.21089864, 146.153602  , 127.00320031,\n",
       "       113.77980038, 110.1949983 , 108.19039921,  77.46499882,\n",
       "       169.9233021 , 114.02769924, 121.63839913, 127.89530159,\n",
       "       154.78639744,  91.87459931, 136.14090067, 158.79530316,\n",
       "       125.85600071, 125.36650044, 130.61270159, 114.88270107,\n",
       "       119.88280022,  91.97949991, 109.98729844, 166.47499906,\n",
       "       156.3582988 , 114.15989964, 106.47500131,  79.82529933,\n",
       "       113.18800024, 125.8757004 , 107.48769949, 119.45060066,\n",
       "       155.96860266, 159.55459896, 120.49719984, 134.79670266,\n",
       "       101.5212999 , 117.61139798, 119.13380001, 112.90320053,\n",
       "       102.79069894, 160.05229798,  98.70560028, 147.51649935,\n",
       "       125.68780067, 169.98279911, 125.72049885, 127.39279744,\n",
       "       127.26030117, 113.7628994 , 112.90950104, 123.58559931,\n",
       "       102.26829912,  89.22299992, 124.64959942, 101.48649942,\n",
       "       107.01159942, 113.57160043, 117.09850071,  98.59559902,\n",
       "       121.60860052, 163.39379798,  87.31819878, 106.905     ,\n",
       "       117.25130056, 127.59630136, 124.15940081,  80.70179898,\n",
       "       120.14070053, 158.60539808,  87.88029984, 110.28249941,\n",
       "       118.78379925, 172.30879872, 103.03969902, 105.51570083,\n",
       "       122.40160026, 159.13049752,  87.46209831,  93.07950043,\n",
       "       113.09730067, 177.38249926, 114.92929987, 119.10630002,\n",
       "        95.2063013 , 125.91700071, 166.0201007 , 114.86270095,\n",
       "       116.6989013 ,  88.25769859, 148.69270046, 120.41019962,\n",
       "        89.45000004, 112.1176999 , 117.37860049, 118.67240122,\n",
       "        87.98949922,  94.60180047, 117.27020037, 118.49550191,\n",
       "       120.5556004 , 126.77659816, 121.83519968, 152.41189958,\n",
       "       165.50680037, 118.73179934, 120.27450117, 151.35290056,\n",
       "       118.39649907, 173.35149893, 105.16409915, 104.85970163,\n",
       "       149.42900037, 113.8016006 , 124.91030098, 147.00319949,\n",
       "       119.57630137, 115.31110071, 112.61739988, 113.5393022 ,\n",
       "       142.27620096, 118.05339757, 102.96280063, 115.87020123,\n",
       "       103.58660176,  98.59730048, 117.42660072,  90.56419998,\n",
       "        91.60490041, 153.51319909, 102.66590025, 154.58810068,\n",
       "       114.35880186, 138.38500154,  90.22129844, 115.47869916,\n",
       "       114.7302998 , 122.72680032, 121.71920011, 165.58210168,\n",
       "        92.87549937, 134.92400065, 121.33589929, 120.73420075,\n",
       "       104.62360009, 142.46510305, 121.42549937, 116.67650028,\n",
       "       113.46660081, 127.11179775, 122.73809936, 125.82229973,\n",
       "       121.23990015,  86.94689954, 132.35880135, 144.66950226,\n",
       "        92.68199977, 159.46499961, 158.62940257, 126.45489878,\n",
       "       164.90729933, 108.8097997 , 109.25920067, 103.6725984 ,\n",
       "        94.38070064, 127.71050271, 106.97820009, 161.91380011,\n",
       "       121.50400034, 131.92740075, 130.78890111, 159.85539985,\n",
       "        90.12189878, 175.47900213, 127.97440039, 126.77199878,\n",
       "        86.26169926, 124.49019944, 150.52669704,  89.57610028,\n",
       "       107.00950033, 108.96859962,  83.95409891, 135.8705999 ,\n",
       "       155.05560208, 140.82650384,  74.51490017, 152.19460088,\n",
       "       126.35550031, 126.75590024, 127.46359875, 108.4595998 ,\n",
       "       156.04579988, 114.35010094, 116.86460145, 125.34719948,\n",
       "       154.14430145, 121.39589997, 156.45959845,  92.95670033,\n",
       "       125.45360195, 125.97470028,  87.86420036,  92.12859947,\n",
       "       126.09169955, 128.37590323, 113.10390044, 117.64989719,\n",
       "       120.87720005, 127.01529873, 119.74430104, 136.19350114,\n",
       "        94.02569943, 119.61870039, 113.04080109,  94.27499933,\n",
       "       108.74269964,  87.20929923, 108.94469947,  89.6462    ,\n",
       "        92.57680007, 131.78400254, 162.13590052,  89.15099994,\n",
       "       119.75840073, 133.54280163, 124.00920064, 128.36490206,\n",
       "       101.9967986 ,  88.81179898, 131.36860124, 120.28380023,\n",
       "       108.44610012, 167.8133011 , 115.27410061,  86.710599  ,\n",
       "       118.94230069,  91.21529955, 161.96349986, 116.41380046,\n",
       "       121.62920027, 160.16099802, 120.11799943, 112.57489955,\n",
       "       108.45219887, 126.59479978,  76.07200023, 102.89999972,\n",
       "       127.39320256, 121.79739949,  92.54750006, 131.80370006,\n",
       "       117.92130126, 116.11039972, 154.67240244, 159.61860063,\n",
       "       110.06789991, 153.07569848, 119.34620109, 160.21900069,\n",
       "       118.43180022, 159.78669897, 115.06059939, 116.64000037,\n",
       "       149.65249893, 114.79060064, 125.56769848, 165.52869985,\n",
       "       117.69500019, 124.96319937, 153.29620394, 153.43880184,\n",
       "       132.28970044, 114.60610032, 121.22770195, 124.82030081,\n",
       "        89.6938008 , 123.39179974, 154.54200131, 111.76360054,\n",
       "       106.88189971, 161.29570121, 118.57579981, 165.55229978,\n",
       "       133.93980163, 115.11929986, 152.96279874, 168.61090011,\n",
       "       114.61020005, 114.06740116, 159.20489838,  85.38479854,\n",
       "       127.16570047, 127.85700052, 129.00589923, 124.30360078,\n",
       "       123.96640088,  90.81500095, 153.33970079,  97.17269985,\n",
       "       136.02229997,  89.21469925, 107.35919987, 115.10310074,\n",
       "       112.98350108, 124.14429892,  91.36879887, 125.41980109,\n",
       "       162.18109894, 119.84279915, 165.21230027, 126.82339823,\n",
       "       112.59459995, 127.47659978,  95.064999  ,  91.03679968,\n",
       "       102.96779899, 120.78049993,  83.08039926, 126.30490002,\n",
       "       160.46020487, 117.29050064, 118.28379986, 119.84959976,\n",
       "       122.67819972, 120.04830143, 121.45510032, 118.18060066,\n",
       "       107.11339948, 148.05709952, 126.32259837, 115.72390108,\n",
       "        73.87739994, 127.86090094, 154.07410055, 122.25819992,\n",
       "       125.53040069,  88.72480014, 103.24399847, 124.13820017,\n",
       "       120.3167005 ,  73.3186009 , 152.01419972, 121.23310044,\n",
       "       104.5449998 ,  86.4337976 , 114.96789922, 172.17299823,\n",
       "       119.85670058, 161.45149723, 113.23849934, 121.29200022,\n",
       "       118.20040109,  95.95719994, 118.82139979, 125.52570027,\n",
       "       118.44209962,  96.24920097, 153.70070196, 122.12750027,\n",
       "       147.11839975, 159.5691024 , 113.46480023, 122.43669949,\n",
       "       149.12599809, 127.22639993, 165.97570041, 135.56820071,\n",
       "       120.4060002 , 167.3165983 , 108.26029943, 121.80319866,\n",
       "       138.70460053, 106.58569906])"
      ]
     },
     "execution_count": 22,
     "metadata": {},
     "output_type": "execute_result"
    }
   ],
   "source": [
    "test_data_prediction"
   ]
  },
  {
   "cell_type": "markdown",
   "id": "b75792ae-a5e4-4adf-8f51-a4b22b80e253",
   "metadata": {},
   "source": [
    "#### R Squared "
   ]
  },
  {
   "cell_type": "code",
   "execution_count": 23,
   "id": "4ba06b4a-646b-4105-bdc2-865513c7d6dd",
   "metadata": {},
   "outputs": [],
   "source": [
    "error_score = metrics.r2_score(Y_test,test_data_prediction)"
   ]
  },
  {
   "cell_type": "code",
   "execution_count": 24,
   "id": "3ab1cf4b-422e-4229-8209-22a0ee4b67e6",
   "metadata": {},
   "outputs": [
    {
     "name": "stdout",
     "output_type": "stream",
     "text": [
      "R Squared Error 98.87784868367403 %\n"
     ]
    }
   ],
   "source": [
    "print(\"R Squared Error\",error_score*100,\"%\" )"
   ]
  },
  {
   "cell_type": "markdown",
   "id": "039000bd-61d0-44c1-a8a4-ca5234b5c42b",
   "metadata": {},
   "source": [
    "#### Compare Actual value & Predicted value"
   ]
  },
  {
   "cell_type": "code",
   "execution_count": 25,
   "id": "2a7f3d10-4a09-461f-a6da-ce4dc3f36cec",
   "metadata": {},
   "outputs": [
    {
     "data": {
      "image/png": "[encoded data removed]",
      "text/plain": [
       "<Figure size 640x480 with 1 Axes>"
      ]
     },
     "metadata": {},
     "output_type": "display_data"
    }
   ],
   "source": [
    "\n",
    "Y_test = list(Y_test)\n",
    "plt.plot(Y_test,color='red',label = 'Actual Value')\n",
    "plt.plot(test_data_prediction,color='yellow',label = 'Predicted Value')\n",
    "plt.title('Actual value vs Predicted value')\n",
    "plt.xlabel('Number of Values')\n",
    "plt.ylabel('Gold Price')\n",
    "plt.legend()\n",
    "plt.show()"
   ]
  },
  {
   "cell_type": "markdown",
   "id": "d1fc53b1-a318-468d-9937-16f2e3cf7d95",
   "metadata": {},
   "source": [
    "___________________________________________________________"
   ]
  },
  {
   "cell_type": "code",
   "execution_count": null,
   "id": "0499ada0-f744-4ff8-993a-1f3400e135c5",
   "metadata": {},
   "outputs": [],
   "source": []
  }
 ],
 "metadata": {
  "kernelspec": {
   "display_name": "Python 3 (ipykernel)",
   "language": "python",
   "name": "python3"
  },
  "language_info": {
   "codemirror_mode": {
    "name": "ipython",
    "version": 3
   },
   "file_extension": ".py",
   "mimetype": "text/x-python",
   "name": "python",
   "nbconvert_exporter": "python",
   "pygments_lexer": "ipython3",
   "version": "3.11.3"
  }
 },
 "nbformat": 4,
 "nbformat_minor": 5
}
